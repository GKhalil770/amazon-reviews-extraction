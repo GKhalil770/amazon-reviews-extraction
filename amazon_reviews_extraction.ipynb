{
  "cells": [
    {
      "cell_type": "markdown",
      "id": "7b626edc",
      "metadata": {
        "id": "7b626edc"
      },
      "source": [
        "####\n",
        "### <font color=\"GREEN\">Introduction to Web Scraping</font>\n",
        "# <font color=\"RED\">Amazon Reviews Scraping</font>"
      ]
    },
    {
      "cell_type": "code",
      "execution_count": 1,
      "id": "5c876637",
      "metadata": {
        "id": "5c876637"
      },
      "outputs": [],
      "source": [
        "# Import packages\n",
        "import requests\n",
        "import pandas as pd\n",
        "from bs4 import BeautifulSoup\n",
        "from datetime import datetime"
      ]
    },
    {
      "cell_type": "code",
      "execution_count": 2,
      "id": "d3fa2952",
      "metadata": {
        "id": "d3fa2952"
      },
      "outputs": [],
      "source": [
        "# Header to set the requests as a browser requests\n",
        "headers = {\n",
        "    'authority': 'www.amazon.com',\n",
        "    'accept': 'text/html,application/xhtml+xml,application/xml;q=0.9,image/avif,image/webp,image/apng,*/*;q=0.8,application/signed-exchange;v=b3;q=0.9',\n",
        "    'accept-language': 'en-US,en;q=0.9,bn;q=0.8',\n",
        "    'sec-ch-ua': '\" Not A;Brand\";v=\"99\", \"Chromium\";v=\"102\", \"Google Chrome\";v=\"102\"',\n",
        "    'user-agent': 'Mozilla/5.0 (Windows NT 10.0; Win64; x64) AppleWebKit/537.36 (KHTML, like Gecko) Chrome/102.0.0.0 Safari/537.36'\n",
        "}"
      ]
    },
    {
      "cell_type": "code",
      "execution_count": 3,
      "id": "f19e72fc",
      "metadata": {
        "id": "f19e72fc"
      },
      "outputs": [],
      "source": [
        "# URL of The amazon Review page\n",
        "reviews_url = 'https://www.amazon.com/Legendary-Whitetails-Journeyman-Jacket-Tarmac/product-reviews/B013KW38RQ/'"
      ]
    },
    {
      "cell_type": "code",
      "execution_count": 4,
      "id": "51563925",
      "metadata": {
        "id": "51563925"
      },
      "outputs": [],
      "source": [
        "# Define Page No\n",
        "len_page = 4"
      ]
    },
    {
      "cell_type": "markdown",
      "id": "cf616af8",
      "metadata": {
        "id": "cf616af8"
      },
      "source": [
        "### <font color=\"red\">Functions</font>"
      ]
    },
    {
      "cell_type": "code",
      "execution_count": 5,
      "id": "75b0d65d",
      "metadata": {
        "id": "75b0d65d"
      },
      "outputs": [],
      "source": [
        "# Extra Data as Html object from amazon Review page\n",
        "def reviewsHtml(url, len_page):\n",
        "\n",
        "    # Empty List define to store all pages html data\n",
        "    soups = []\n",
        "\n",
        "    # Loop for gather all 3000 reviews from 300 pages via range\n",
        "    for page_no in range(1, len_page + 1):\n",
        "\n",
        "        # parameter set as page no to the requests body\n",
        "        params = {\n",
        "            'ie': 'UTF8',\n",
        "            'reviewerType': 'all_reviews',\n",
        "            'filterByStar': 'critical',\n",
        "            'pageNumber': page_no,\n",
        "        }\n",
        "\n",
        "        # Request make for each page\n",
        "        response = requests.get(url, headers=headers)\n",
        "\n",
        "        # Save Html object by using BeautifulSoup4 and lxml parser\n",
        "        soup = BeautifulSoup(response.text, 'lxml')\n",
        "\n",
        "        # Add single Html page data in master soups list\n",
        "        soups.append(soup)\n",
        "\n",
        "    return soups"
      ]
    },
    {
      "cell_type": "code",
      "execution_count": 6,
      "id": "8dd5f9c7",
      "metadata": {
        "id": "8dd5f9c7"
      },
      "outputs": [],
      "source": [
        "# Grab Reviews name, description, date, stars, title from HTML\n",
        "def getReviews(html_data):\n",
        "\n",
        "    # Create Empty list to Hold all data\n",
        "    data_dicts = []\n",
        "\n",
        "    # Select all Reviews BOX html using css selector\n",
        "    boxes = html_data.select('div[data-hook=\"review\"]')\n",
        "\n",
        "    # Iterate all Reviews BOX\n",
        "    for box in boxes:\n",
        "\n",
        "        # Select Name using css selector and cleaning text using strip()\n",
        "        # If Value is empty define value with 'N/A' for all.\n",
        "        try:\n",
        "            name = box.select_one('[class=\"a-profile-name\"]').text.strip()\n",
        "        except Exception as e:\n",
        "            name = 'N/A'\n",
        "\n",
        "        try:\n",
        "            stars = box.select_one('[data-hook=\"review-star-rating\"]').text.strip().split(' out')[0]\n",
        "        except Exception as e:\n",
        "            stars = 'N/A'\n",
        "\n",
        "        try:\n",
        "            title = box.select_one('[data-hook=\"review-title\"]').text.strip()\n",
        "        except Exception as e:\n",
        "            title = 'N/A'\n",
        "\n",
        "        try:\n",
        "            # Convert date str to dd/mm/yyy format\n",
        "            datetime_str = box.select_one('[data-hook=\"review-date\"]').text.strip().split(' on ')[-1]\n",
        "            date = datetime.strptime(datetime_str, '%B %d, %Y').strftime(\"%d/%m/%Y\")\n",
        "        except Exception as e:\n",
        "            date = 'N/A'\n",
        "\n",
        "        try:\n",
        "            description = box.select_one('[data-hook=\"review-body\"]').text.strip()\n",
        "        except Exception as e:\n",
        "            description = 'N/A'\n",
        "\n",
        "        # create Dictionary with al review data\n",
        "        data_dict = {\n",
        "            'Name' : name,\n",
        "            'Stars' : stars,\n",
        "            'Title' : title,\n",
        "            'Date' : date,\n",
        "            'Description' : description\n",
        "        }\n",
        "\n",
        "        # Add Dictionary in master empty List\n",
        "        data_dicts.append(data_dict)\n",
        "\n",
        "    return data_dicts"
      ]
    },
    {
      "cell_type": "markdown",
      "id": "30cbf1c5",
      "metadata": {
        "id": "30cbf1c5"
      },
      "source": [
        "### <font color=\"red\">Data Process</font>"
      ]
    },
    {
      "cell_type": "code",
      "execution_count": 7,
      "id": "83731672",
      "metadata": {
        "scrolled": true,
        "id": "83731672"
      },
      "outputs": [],
      "source": [
        "# Grab all HTML\n",
        "html_datas = reviewsHtml(reviews_url, len_page)"
      ]
    },
    {
      "cell_type": "code",
      "execution_count": 8,
      "id": "545bb6ed",
      "metadata": {
        "id": "545bb6ed"
      },
      "outputs": [],
      "source": [
        "# Empty List to Hold all reviews data\n",
        "reviews = []"
      ]
    },
    {
      "cell_type": "code",
      "execution_count": 9,
      "id": "a26391c7",
      "metadata": {
        "id": "a26391c7"
      },
      "outputs": [],
      "source": [
        "# Iterate all Html page\n",
        "for html_data in html_datas:\n",
        "\n",
        "    # Grab review data\n",
        "    review = getReviews(html_data)\n",
        "\n",
        "    # add review data in reviews empty list\n",
        "    reviews += review"
      ]
    },
    {
      "cell_type": "code",
      "execution_count": 10,
      "id": "25fd4ec7",
      "metadata": {
        "id": "25fd4ec7"
      },
      "outputs": [],
      "source": [
        "# Create a dataframe with reviews Data\n",
        "df_reviews = pd.DataFrame(reviews)"
      ]
    },
    {
      "cell_type": "code",
      "execution_count": 11,
      "id": "394b9257",
      "metadata": {
        "scrolled": true,
        "id": "394b9257",
        "outputId": "e6c3f28e-bb19-4bb6-cd5e-473b5c15bd33",
        "colab": {
          "base_uri": "https://localhost:8080/",
          "height": 139
        }
      },
      "outputs": [
        {
          "output_type": "execute_result",
          "data": {
            "text/plain": [
              "Empty DataFrame\n",
              "Columns: []\n",
              "Index: []"
            ],
            "text/html": [
              "\n",
              "  <div id=\"df-a2862759-1577-4936-bcb0-4ea56722dde5\" class=\"colab-df-container\">\n",
              "    <div>\n",
              "<style scoped>\n",
              "    .dataframe tbody tr th:only-of-type {\n",
              "        vertical-align: middle;\n",
              "    }\n",
              "\n",
              "    .dataframe tbody tr th {\n",
              "        vertical-align: top;\n",
              "    }\n",
              "\n",
              "    .dataframe thead th {\n",
              "        text-align: right;\n",
              "    }\n",
              "</style>\n",
              "<table border=\"1\" class=\"dataframe\">\n",
              "  <thead>\n",
              "    <tr style=\"text-align: right;\">\n",
              "      <th></th>\n",
              "    </tr>\n",
              "  </thead>\n",
              "  <tbody>\n",
              "  </tbody>\n",
              "</table>\n",
              "</div>\n",
              "    <div class=\"colab-df-buttons\">\n",
              "\n",
              "  <div class=\"colab-df-container\">\n",
              "    <button class=\"colab-df-convert\" onclick=\"convertToInteractive('df-a2862759-1577-4936-bcb0-4ea56722dde5')\"\n",
              "            title=\"Convert this dataframe to an interactive table.\"\n",
              "            style=\"display:none;\">\n",
              "\n",
              "  <svg xmlns=\"http://www.w3.org/2000/svg\" height=\"24px\" viewBox=\"0 -960 960 960\">\n",
              "    <path d=\"M120-120v-720h720v720H120Zm60-500h600v-160H180v160Zm220 220h160v-160H400v160Zm0 220h160v-160H400v160ZM180-400h160v-160H180v160Zm440 0h160v-160H620v160ZM180-180h160v-160H180v160Zm440 0h160v-160H620v160Z\"/>\n",
              "  </svg>\n",
              "    </button>\n",
              "\n",
              "  <style>\n",
              "    .colab-df-container {\n",
              "      display:flex;\n",
              "      gap: 12px;\n",
              "    }\n",
              "\n",
              "    .colab-df-convert {\n",
              "      background-color: #E8F0FE;\n",
              "      border: none;\n",
              "      border-radius: 50%;\n",
              "      cursor: pointer;\n",
              "      display: none;\n",
              "      fill: #1967D2;\n",
              "      height: 32px;\n",
              "      padding: 0 0 0 0;\n",
              "      width: 32px;\n",
              "    }\n",
              "\n",
              "    .colab-df-convert:hover {\n",
              "      background-color: #E2EBFA;\n",
              "      box-shadow: 0px 1px 2px rgba(60, 64, 67, 0.3), 0px 1px 3px 1px rgba(60, 64, 67, 0.15);\n",
              "      fill: #174EA6;\n",
              "    }\n",
              "\n",
              "    .colab-df-buttons div {\n",
              "      margin-bottom: 4px;\n",
              "    }\n",
              "\n",
              "    [theme=dark] .colab-df-convert {\n",
              "      background-color: #3B4455;\n",
              "      fill: #D2E3FC;\n",
              "    }\n",
              "\n",
              "    [theme=dark] .colab-df-convert:hover {\n",
              "      background-color: #434B5C;\n",
              "      box-shadow: 0px 1px 3px 1px rgba(0, 0, 0, 0.15);\n",
              "      filter: drop-shadow(0px 1px 2px rgba(0, 0, 0, 0.3));\n",
              "      fill: #FFFFFF;\n",
              "    }\n",
              "  </style>\n",
              "\n",
              "    <script>\n",
              "      const buttonEl =\n",
              "        document.querySelector('#df-a2862759-1577-4936-bcb0-4ea56722dde5 button.colab-df-convert');\n",
              "      buttonEl.style.display =\n",
              "        google.colab.kernel.accessAllowed ? 'block' : 'none';\n",
              "\n",
              "      async function convertToInteractive(key) {\n",
              "        const element = document.querySelector('#df-a2862759-1577-4936-bcb0-4ea56722dde5');\n",
              "        const dataTable =\n",
              "          await google.colab.kernel.invokeFunction('convertToInteractive',\n",
              "                                                    [key], {});\n",
              "        if (!dataTable) return;\n",
              "\n",
              "        const docLinkHtml = 'Like what you see? Visit the ' +\n",
              "          '<a target=\"_blank\" href=https://colab.research.google.com/notebooks/data_table.ipynb>data table notebook</a>'\n",
              "          + ' to learn more about interactive tables.';\n",
              "        element.innerHTML = '';\n",
              "        dataTable['output_type'] = 'display_data';\n",
              "        await google.colab.output.renderOutput(dataTable, element);\n",
              "        const docLink = document.createElement('div');\n",
              "        docLink.innerHTML = docLinkHtml;\n",
              "        element.appendChild(docLink);\n",
              "      }\n",
              "    </script>\n",
              "  </div>\n",
              "\n",
              "\n",
              "  <div id=\"id_012fd813-f8c9-4e0a-a77f-c63e4fdf6dde\">\n",
              "    <style>\n",
              "      .colab-df-generate {\n",
              "        background-color: #E8F0FE;\n",
              "        border: none;\n",
              "        border-radius: 50%;\n",
              "        cursor: pointer;\n",
              "        display: none;\n",
              "        fill: #1967D2;\n",
              "        height: 32px;\n",
              "        padding: 0 0 0 0;\n",
              "        width: 32px;\n",
              "      }\n",
              "\n",
              "      .colab-df-generate:hover {\n",
              "        background-color: #E2EBFA;\n",
              "        box-shadow: 0px 1px 2px rgba(60, 64, 67, 0.3), 0px 1px 3px 1px rgba(60, 64, 67, 0.15);\n",
              "        fill: #174EA6;\n",
              "      }\n",
              "\n",
              "      [theme=dark] .colab-df-generate {\n",
              "        background-color: #3B4455;\n",
              "        fill: #D2E3FC;\n",
              "      }\n",
              "\n",
              "      [theme=dark] .colab-df-generate:hover {\n",
              "        background-color: #434B5C;\n",
              "        box-shadow: 0px 1px 3px 1px rgba(0, 0, 0, 0.15);\n",
              "        filter: drop-shadow(0px 1px 2px rgba(0, 0, 0, 0.3));\n",
              "        fill: #FFFFFF;\n",
              "      }\n",
              "    </style>\n",
              "    <button class=\"colab-df-generate\" onclick=\"generateWithVariable('df_reviews')\"\n",
              "            title=\"Generate code using this dataframe.\"\n",
              "            style=\"display:none;\">\n",
              "\n",
              "  <svg xmlns=\"http://www.w3.org/2000/svg\" height=\"24px\"viewBox=\"0 0 24 24\"\n",
              "       width=\"24px\">\n",
              "    <path d=\"M7,19H8.4L18.45,9,17,7.55,7,17.6ZM5,21V16.75L18.45,3.32a2,2,0,0,1,2.83,0l1.4,1.43a1.91,1.91,0,0,1,.58,1.4,1.91,1.91,0,0,1-.58,1.4L9.25,21ZM18.45,9,17,7.55Zm-12,3A5.31,5.31,0,0,0,4.9,8.1,5.31,5.31,0,0,0,1,6.5,5.31,5.31,0,0,0,4.9,4.9,5.31,5.31,0,0,0,6.5,1,5.31,5.31,0,0,0,8.1,4.9,5.31,5.31,0,0,0,12,6.5,5.46,5.46,0,0,0,6.5,12Z\"/>\n",
              "  </svg>\n",
              "    </button>\n",
              "    <script>\n",
              "      (() => {\n",
              "      const buttonEl =\n",
              "        document.querySelector('#id_012fd813-f8c9-4e0a-a77f-c63e4fdf6dde button.colab-df-generate');\n",
              "      buttonEl.style.display =\n",
              "        google.colab.kernel.accessAllowed ? 'block' : 'none';\n",
              "\n",
              "      buttonEl.onclick = () => {\n",
              "        google.colab.notebook.generateWithVariable('df_reviews');\n",
              "      }\n",
              "      })();\n",
              "    </script>\n",
              "  </div>\n",
              "\n",
              "    </div>\n",
              "  </div>\n"
            ],
            "application/vnd.google.colaboratory.intrinsic+json": {
              "type": "dataframe",
              "variable_name": "df_reviews",
              "summary": "{\n  \"name\": \"df_reviews\",\n  \"rows\": 0,\n  \"fields\": []\n}"
            }
          },
          "metadata": {},
          "execution_count": 11
        }
      ],
      "source": [
        "df_reviews"
      ]
    },
    {
      "cell_type": "code",
      "execution_count": 12,
      "id": "53a4b504",
      "metadata": {
        "id": "53a4b504"
      },
      "outputs": [],
      "source": [
        "# Save data\n",
        "df_reviews.to_csv('reviews.csv', index=False)"
      ]
    },
    {
      "cell_type": "code",
      "execution_count": 12,
      "id": "4da15509",
      "metadata": {
        "id": "4da15509"
      },
      "outputs": [],
      "source": []
    }
  ],
  "metadata": {
    "kernelspec": {
      "display_name": "Python 3 (ipykernel)",
      "language": "python",
      "name": "python3"
    },
    "language_info": {
      "codemirror_mode": {
        "name": "ipython",
        "version": 3
      },
      "file_extension": ".py",
      "mimetype": "text/x-python",
      "name": "python",
      "nbconvert_exporter": "python",
      "pygments_lexer": "ipython3",
      "version": "3.9.7"
    },
    "colab": {
      "provenance": []
    }
  },
  "nbformat": 4,
  "nbformat_minor": 5
}